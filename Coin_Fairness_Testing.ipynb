{
 "cells": [
  {
   "cell_type": "markdown",
   "metadata": {},
   "source": [
    "## Importing Libraries"
   ]
  },
  {
   "cell_type": "code",
   "execution_count": 1,
   "metadata": {},
   "outputs": [],
   "source": [
    "from scipy import stats\n",
    "import numpy as np\n",
    "import matplotlib.pyplot as plt"
   ]
  },
  {
   "cell_type": "markdown",
   "metadata": {},
   "source": [
    "## Binomial Distribution \n",
    "Total Coin Flips = 20\n",
    "Number of Heads = 15\n",
    "Number of Tails = 5"
   ]
  },
  {
   "cell_type": "markdown",
   "metadata": {},
   "source": [
    "Running the case for one outcome"
   ]
  },
  {
   "cell_type": "code",
   "execution_count": 2,
   "metadata": {},
   "outputs": [
    {
     "name": "stdout",
     "output_type": "stream",
     "text": [
      "0.014785766601562429\n"
     ]
    }
   ],
   "source": [
    "n = 20\n",
    "p = 0.5\n",
    "r = 15\n",
    "\n",
    "prob = stats.binom.pmf(r, n, p)\n",
    "print(prob)"
   ]
  },
  {
   "cell_type": "markdown",
   "metadata": {},
   "source": [
    "Running the case for multiple outcomes to create a binmomial distribution"
   ]
  },
  {
   "cell_type": "code",
   "execution_count": 3,
   "metadata": {},
   "outputs": [
    {
     "data": {
      "image/png": "[encoded data removed]",
      "text/plain": [
       "<Figure size 432x288 with 1 Axes>"
      ]
     },
     "metadata": {
      "needs_background": "light"
     },
     "output_type": "display_data"
    }
   ],
   "source": [
    "n = 20\n",
    "p = 0.5\n",
    "r = list(range(n + 1))\n",
    "\n",
    "dist = [stats.binom.pmf(r_val, n, p) for r_val in r ]\n",
    "\n",
    "plt.bar(r, dist)\n",
    "plt.title(\"Binomial Distribution\")\n",
    "plt.xlabel(\"Number of Flips\")\n",
    "plt.ylabel(\"Probability of Heads\")\n",
    "plt.axhline(y=prob,color='r')\n",
    "plt.show()"
   ]
  },
  {
   "cell_type": "code",
   "execution_count": 4,
   "metadata": {},
   "outputs": [
    {
     "name": "stdout",
     "output_type": "stream",
     "text": [
      "0.04138946533203108\n"
     ]
    }
   ],
   "source": [
    "n = 20\n",
    "p = 0.5\n",
    "r = [0,1,2,3,4,5,15,16,17,18,19,20]\n",
    "\n",
    "prob = 0.0\n",
    "for r_val in r:\n",
    "    prob = prob + stats.binom.pmf(r_val, n, p)\n",
    "    #print(prob)\n",
    "print(prob)"
   ]
  },
  {
   "cell_type": "code",
   "execution_count": 5,
   "metadata": {},
   "outputs": [],
   "source": [
    "pval = []\n",
    "for i in range(0,1000):\n",
    "    flippedCoinSimulation = np.random.binomial(1, 0.5, 1000) #first input changes sum of coins\n",
    "    numberOfHeads = np.sum(flippedCoinSimulation==1)\n",
    "    numberOfTails = np.sum(flippedCoinSimulation==0)\n",
    "    pvalue = stats.binom_test(numberOfHeads, 1000, 0.5)\n",
    "    pval.append(pvalue)\n",
    "    "
   ]
  },
  {
   "cell_type": "code",
   "execution_count": 6,
   "metadata": {},
   "outputs": [
    {
     "data": {
      "image/png": "[encoded data removed]",
      "text/plain": [
       "<Figure size 432x288 with 1 Axes>"
      ]
     },
     "metadata": {
      "needs_background": "light"
     },
     "output_type": "display_data"
    }
   ],
   "source": [
    "n_bins = 20\n",
    "plt.hist(pval,n_bins,rwidth=0.7)\n",
    "plt.ylabel(\"Counts\")\n",
    "plt.xlabel(\"P-values\")\n",
    "plt.axvline(x = 0.05,color='r')\n",
    "plt.show()"
   ]
  },
  {
   "cell_type": "code",
   "execution_count": 7,
   "metadata": {},
   "outputs": [
    {
     "data": {
      "image/png": "[encoded data removed]",
      "text/plain": [
       "<Figure size 432x288 with 1 Axes>"
      ]
     },
     "metadata": {
      "needs_background": "light"
     },
     "output_type": "display_data"
    }
   ],
   "source": [
    "n = 100\n",
    "p = 0.5\n",
    "r = list(range(n + 1))\n",
    "\n",
    "dist = [stats.binom.pmf(r_val, n, p) for r_val in r ]\n",
    "\n",
    "plt.bar(r, dist)\n",
    "plt.title(\"Binomial Distribution\")\n",
    "plt.xlabel(\"Number of Heads\")\n",
    "plt.ylabel(\"Probability of Heads\")\n",
    "plt.axhline(y=0.01,color='r')\n",
    "#plt.axvline(x = 40,color='r')\n",
    "#plt.axvline(x = 60,color='r')\n",
    "plt.show()"
   ]
  },
  {
   "cell_type": "code",
   "execution_count": 8,
   "metadata": {},
   "outputs": [
    {
     "name": "stdout",
     "output_type": "stream",
     "text": [
      "Number of Trials for 68.27% level of confidence  2500\n"
     ]
    }
   ],
   "source": [
    "e = 0.01\n",
    "Z = 1.0 #68.27% level of confidence\n",
    "\n",
    "n = int((Z**2) / (4 * (e**2)))\n",
    "print(\"Number of Trials for 68.27% level of confidence \",n)"
   ]
  },
  {
   "cell_type": "code",
   "execution_count": 9,
   "metadata": {},
   "outputs": [
    {
     "name": "stdout",
     "output_type": "stream",
     "text": [
      "Number of Trials for 95.45% level of confidence  10000\n"
     ]
    }
   ],
   "source": [
    "e = 0.01\n",
    "Z = 2.0 #95.45% level of confidence\n",
    "\n",
    "n = int((Z**2) / (4 * (e**2)))\n",
    "print(\"Number of Trials for 95.45% level of confidence \",n)"
   ]
  },
  {
   "cell_type": "code",
   "execution_count": 10,
   "metadata": {},
   "outputs": [
    {
     "name": "stdout",
     "output_type": "stream",
     "text": [
      "Number of Trials for 99.90% level of confidence  27224\n"
     ]
    }
   ],
   "source": [
    "e = 0.01\n",
    "Z = 3.3 #99.90% level of confidence\n",
    "\n",
    "n = int((Z**2) / (4 * (e**2)))\n",
    "print(\"Number of Trials for 99.90% level of confidence \",n)"
   ]
  },
  {
   "cell_type": "code",
   "execution_count": null,
   "metadata": {},
   "outputs": [],
   "source": []
  }
 ],
 "metadata": {
  "kernelspec": {
   "display_name": "Python 3",
   "language": "python",
   "name": "python3"
  },
  "language_info": {
   "codemirror_mode": {
    "name": "ipython",
    "version": 3
   },
   "file_extension": ".py",
   "mimetype": "text/x-python",
   "name": "python",
   "nbconvert_exporter": "python",
   "pygments_lexer": "ipython3",
   "version": "3.8.3"
  }
 },
 "nbformat": 4,
 "nbformat_minor": 4
}
